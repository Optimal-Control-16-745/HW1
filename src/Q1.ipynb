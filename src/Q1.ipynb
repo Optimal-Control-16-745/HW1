{
 "cells": [
  {
   "cell_type": "code",
   "execution_count": 19,
   "metadata": {},
   "outputs": [
    {
     "name": "stderr",
     "output_type": "stream",
     "text": [
      "\u001b[32m\u001b[1m Activating\u001b[22m\u001b[39m environment at `~/Classes/OptimalControl/HW1_solution/Project.toml`\n"
     ]
    }
   ],
   "source": [
    "import Pkg; Pkg.activate(joinpath(@__DIR__,\"..\")); Pkg.instantiate();\n",
    "using LinearAlgebra"
   ]
  },
  {
   "cell_type": "markdown",
   "metadata": {},
   "source": [
    "# Question 1: Implicit Integrators (25 pts)\n",
    "In this question we'll be taking a deeper look into implicit integration techniques, and some of the advantages they bring."
   ]
  },
  {
   "cell_type": "markdown",
   "metadata": {},
   "source": [
    "## Part (a): Implicit Midpoint (3 pts)\n",
    "Implement implicit midpoint integration for the simple pendulum with $m = l = 1$ and $g = 9.81$:\n",
    "$$ x_{n+1} = x_n + h f\\left(\\frac{x_{n+1} + x_n}{2}\\right) $$"
   ]
  },
  {
   "cell_type": "code",
   "execution_count": 8,
   "metadata": {},
   "outputs": [
    {
     "data": {
      "text/plain": [
       "pendulum_jacobian (generic function with 1 method)"
      ]
     },
     "execution_count": 8,
     "metadata": {},
     "output_type": "execute_result"
    }
   ],
   "source": [
    "# TASK: Implement the `implicit_midpoint_pendulum!` function\n",
    "\"\"\"\n",
    "    x2 = implicit_midpoint_pendulum!(x2, x1, h; [m,l,g])\n",
    "\n",
    "Evaluate the discrete pendulum dynamics with mass `m`, length `l`, and gravity `g` using\n",
    "implicit midpoint:\n",
    "\n",
    "``x_{n+1} = x_n + h f\\\\left(\\\\frac{x_{n+1} + x_n}{2}\\\\right)``\n",
    "\"\"\"\n",
    "function implicit_midpoint_pendulum(x2, x1, h)\n",
    "    # TODO: Implement this method\n",
    "    out = zero(x2)\n",
    "    \n",
    "    # SOLUTION\n",
    "    xmid = 0.5 * (x1 + x2)\n",
    "    out = x1 .+ h * pendulum_dynamics(xmid)\n",
    "    return out\n",
    "end\n",
    "\n",
    "# SOLUTION: some extra functions to make things easier\n",
    "function pendulum_dynamics(x; m=1, l=1, g=9.81)\n",
    "    θ = x[1]\n",
    "    ω = x[2]\n",
    "    return [\n",
    "        ω,\n",
    "        -g/l*sin(θ)\n",
    "    ]\n",
    "end\n",
    "\n",
    "function pendulum_jacobian(x; m=1, l=1, g=9.81)\n",
    "    return [\n",
    "        0 1;\n",
    "        -g/l*cos(x[1]) 0;\n",
    "    ]\n",
    "end"
   ]
  },
  {
   "cell_type": "markdown",
   "metadata": {},
   "source": [
    "## Part (b): Solve using Newton's Method (10 pts)\n",
    "Use Newton's method to solve for $x_{n+1}$ with initial guess $x_{n+1} = x_n$. Solve such that the 2-norm of the residual is less than 1e-6. \n",
    "\n",
    "**NOTE**: It should take 5 iterations or less. If it's taking more iterations than that, you're doing something wrong."
   ]
  },
  {
   "cell_type": "code",
   "execution_count": 20,
   "metadata": {},
   "outputs": [
    {
     "data": {
      "text/plain": [
       "implicit_midpoint_jacobian1 (generic function with 1 method)"
      ]
     },
     "execution_count": 20,
     "metadata": {},
     "output_type": "execute_result"
    }
   ],
   "source": [
    "# TASK: Complete the following function\n",
    "\"\"\"\n",
    "    implicit_midpoint_solve!(x2,x1,h)\n",
    "\n",
    "Find the `x2` that satisfies implicit midpoint integration for the pendulum dynamics. \n",
    "\n",
    "Should modify `x2` in-place and return a vector of 2-norm residuals. The input value of `x2`\n",
    "should be used as the initial guess.\n",
    "\"\"\"\n",
    "function implicit_midpoint_solve!(x2, x1, h; ϵ=1e-10)::Vector{Float64}\n",
    "    # TODO: Implement this function. Feel free to add optional input arguments as needed\n",
    "    residuals = Float64[]\n",
    "    \n",
    "    # SOLUTION\n",
    "    r(x) = implicit_midpoint_pendulum(x, x1, h) - x\n",
    "    ∇r(x) = implicit_midpoint_jacobian2(x, x1, h)\n",
    "    for i = 1:10\n",
    "        # Evaluate the residual and check convergence\n",
    "        res = r(x2)\n",
    "        push!(residuals, norm(res))\n",
    "        if norm(res) < ϵ\n",
    "            break\n",
    "        end\n",
    "        \n",
    "        # If it hasn't converged, take a Newton step\n",
    "        dx = -∇r(x2) \\ res\n",
    "        x2 .+= dx\n",
    "    end\n",
    "    \n",
    "    return residuals\n",
    "end\n",
    "\n",
    "# SOLUTION: Functions for evaluating the Jacobian of the implicit integrator\n",
    "function implicit_midpoint_jacobian2(x2, x1, h)\n",
    "    # Jacobian wrt x2\n",
    "    xmid = 0.5 * (x2 + x1)\n",
    "    h * pendulum_jacobian(xmid) * 0.5 - I\n",
    "end\n",
    "function implicit_midpoint_jacobian1(x2, x1, h)\n",
    "    # Jacobian wrt x1\n",
    "    xmid = 0.5 * (x2 + x1)\n",
    "    h * pendulum_jacobian(xmid) * 0.5 + I\n",
    "end"
   ]
  },
  {
   "cell_type": "markdown",
   "metadata": {},
   "source": [
    "## Part (c): Energy Analysis (2 pts)\n",
    "Simulate with $h=0.1$ for 1 hour and plot the total energy of the system vs time:\n",
    "$$ E = \\frac{1}{2} m l^2 \\omega^2 + m g l (1 - \\cos \\theta) $$\n",
    "\n",
    "Start the simulation with an initial state of 45 degrees and zero velocity."
   ]
  },
  {
   "cell_type": "code",
   "execution_count": 10,
   "metadata": {},
   "outputs": [
    {
     "data": {
      "text/plain": [
       "pendulum_energy (generic function with 1 method)"
      ]
     },
     "execution_count": 10,
     "metadata": {},
     "output_type": "execute_result"
    }
   ],
   "source": [
    "# TASK: Compute the energy of the system. Store the result in the vector `energy_implicit::Vector{Float64}`\n",
    "using PyPlot\n",
    "\n",
    "# SOLUTION\n",
    "function simulate(x0, h, T)\n",
    "    time = range(0,T, step=h)\n",
    "    x = copy(x0)\n",
    "    x_next = zero(x)\n",
    "    X = [zero(x0) for t in time]\n",
    "    X[1] .= x0\n",
    "    for i = 1:length(time) - 1\n",
    "        implicit_midpoint_solve!(X[i+1], X[i], h, ϵ=1e-12)\n",
    "    end\n",
    "    return time, X\n",
    "end\n",
    "\n",
    "function pendulum_energy(x; m=1, l=1, g=9.81)\n",
    "    return 0.5*m*l^2*x[2]^2 + m*g*(1-cos(x[1]))\n",
    "end"
   ]
  },
  {
   "cell_type": "code",
   "execution_count": 26,
   "metadata": {},
   "outputs": [
    {
     "name": "stdout",
     "output_type": "stream",
     "text": [
      "  0.320112 seconds (2.64 M allocations: 222.417 MiB, 27.73% gc time)\n"
     ]
    }
   ],
   "source": [
    "x0 = [deg2rad(45), 0]\n",
    "@time time, X = simulate(x0, 0.1, 3600);\n",
    "energy_implicit = pendulum_energy.(X);"
   ]
  },
  {
   "cell_type": "code",
   "execution_count": 27,
   "metadata": {},
   "outputs": [
    {
     "data": {
      "image/png": "[encoded data removed]",
      "text/plain": [
       "Figure(PyObject <Figure size 640x480 with 1 Axes>)"
      ]
     },
     "metadata": {},
     "output_type": "display_data"
    },
    {
     "data": {
      "text/plain": [
       "(0.0, 3.0)"
      ]
     },
     "execution_count": 27,
     "metadata": {},
     "output_type": "execute_result"
    }
   ],
   "source": [
    "# SOLUTION\n",
    "plot(time, energy_implicit)\n",
    "xlabel(\"time\")\n",
    "ylabel(\"Energy\")\n",
    "ylim([0,3])"
   ]
  },
  {
   "cell_type": "markdown",
   "metadata": {},
   "source": [
    "## Part (d): RK4 Comparison (5 pts)\n",
    "Compare the energy behavior of the implicit midpoint integrator with a 4th order Runge Kutta integrator."
   ]
  },
  {
   "cell_type": "code",
   "execution_count": 13,
   "metadata": {},
   "outputs": [
    {
     "data": {
      "text/plain": [
       "rk4"
      ]
     },
     "execution_count": 13,
     "metadata": {},
     "output_type": "execute_result"
    }
   ],
   "source": [
    "# TASK: implement a 4th order Runge Kutta integrator for the pendulum (3 pts)\n",
    "\"\"\"\n",
    "    rk4(x, h)\n",
    "\n",
    "Integrate the pendulum dynamics with a 4th Order Runge Kutta method at states `x` and time step `h`.\n",
    "\"\"\"\n",
    "function rk4(x, h)\n",
    "    # TODO: implement\n",
    "    xnext = zero(x)\n",
    "    \n",
    "    # SOLUTION\n",
    "    k1 = pendulum_dynamics(x)\n",
    "    k2 = pendulum_dynamics(x + 0.5*h*k1)\n",
    "    k3 = pendulum_dynamics(x + 0.5*h*k2)\n",
    "    k4 = pendulum_dynamics(x + h*k3)\n",
    "    xnext = x + 1//6 * (k1 + 2k2 + 2k3 + k4) * h\n",
    "    \n",
    "    return xnext\n",
    "end"
   ]
  },
  {
   "cell_type": "code",
   "execution_count": 23,
   "metadata": {},
   "outputs": [
    {
     "data": {
      "text/plain": [
       "simulate_rk4 (generic function with 1 method)"
      ]
     },
     "execution_count": 23,
     "metadata": {},
     "output_type": "execute_result"
    }
   ],
   "source": [
    "# TASK: Compute the energy behavior of rk4. Store the result in `energy_rk4::Vector{Float64}` (1 pt)\n",
    "# TASK: Generate a plot of energy vs time comparing implicit midpoint with rk4 (1 pt)\n",
    "\n",
    "# SOLUTION\n",
    "function simulate_rk4(x0, h, T)\n",
    "    time = range(0,T, step=h)\n",
    "    x = copy(x0)\n",
    "    x_next = zero(x)\n",
    "    X = [zero(x0) for t in time]\n",
    "    X[1] .= x0\n",
    "    for i = 1:length(time) - 1\n",
    "        X[i+1] .= rk4(X[i], h)\n",
    "    end\n",
    "    return time, X\n",
    "end"
   ]
  },
  {
   "cell_type": "code",
   "execution_count": 28,
   "metadata": {},
   "outputs": [
    {
     "data": {
      "image/png": "[encoded data removed]",
      "text/plain": [
       "Figure(PyObject <Figure size 640x480 with 1 Axes>)"
      ]
     },
     "metadata": {},
     "output_type": "display_data"
    },
    {
     "data": {
      "text/plain": [
       "PyObject <matplotlib.legend.Legend object at 0x7f9df9b7f910>"
      ]
     },
     "execution_count": 28,
     "metadata": {},
     "output_type": "execute_result"
    }
   ],
   "source": [
    "# SOLUTION\n",
    "time, Xrk4 = simulate_rk4(x0, 0.1, 3600);\n",
    "energy_rk4 = pendulum_energy.(Xrk4)\n",
    "plot(time, energy_implicit, label=\"implicit\")\n",
    "plot(time, energy_rk4, label=\"rk4\")\n",
    "xlabel(\"time\")\n",
    "ylabel(\"Energy\")\n",
    "grid()\n",
    "legend()"
   ]
  },
  {
   "cell_type": "markdown",
   "metadata": {},
   "source": [
    "## Part (e): Evaluating the Jacobian (5 pts)\n",
    "Computing the Jacobian for an explicit integrator like RK4 is straightforward, since it's just a basic application of the chain rule (you should do this for practice, and can check your result with ForwardDiff). \n",
    "\n",
    "Computing the Jacobian for an implicit integrator is not as trivial since we use Newton's method to compute the next step. However, we can use the [implicit function theorem](https://en.wikipedia.org/wiki/Implicit_function_theorem), which can be easily derived by taking a 1st order Taylor series expansion of $f(x,y) = 0$:\n",
    "$$ f(x,y) = 0 \\implies f(x + \\Delta x, y + \\Delta y) \\approx f(x,y) + \\frac{\\partial f}{\\partial x} \\Delta x + \\frac{\\partial f}{\\partial y} \\Delta y = 0 $$\n",
    "Dropping $f(x,y)$ (since it's zero) and solving for $\\Delta x$ we obtain an expression for our Jacobian:\n",
    "$$ \\Delta x = -\\frac{\\partial f}{\\partial x}^{-1} \\frac{\\partial f}{\\partial y} \\Delta y $$\n",
    "\n",
    "Use this to compute the Jacobian of the implicit integrator, evaluated at $\\theta = \\omega = 0$. "
   ]
  },
  {
   "cell_type": "code",
   "execution_count": 29,
   "metadata": {},
   "outputs": [
    {
     "data": {
      "text/plain": [
       "2×2 Array{Float64,2}:\n",
       "  0.952124  0.0976062\n",
       " -0.957517  0.952124"
      ]
     },
     "execution_count": 29,
     "metadata": {},
     "output_type": "execute_result"
    }
   ],
   "source": [
    "# TASK: Compute the Jacobian of the implicit midpoint integrator for h = 0.1. (3 pts)\n",
    "#       Store the result in `Amid::Matrix{Float64}` of size (2,2)\n",
    "Amid = zeros(2,2)\n",
    "\n",
    "# SOLUTION\n",
    "x1 = zeros(2)\n",
    "x2 = zeros(2)\n",
    "implicit_midpoint_solve!(x2,x1,0.1)\n",
    "A2 = implicit_midpoint_jacobian2(x2,x1,0.1)\n",
    "A1 = implicit_midpoint_jacobian1(x2,x1,0.1)\n",
    "Amid = -A2\\A1"
   ]
  },
  {
   "cell_type": "code",
   "execution_count": 30,
   "metadata": {},
   "outputs": [
    {
     "data": {
      "image/png": "[encoded data removed]",
      "text/plain": [
       "Figure(PyObject <Figure size 640x480 with 1 Axes>)"
      ]
     },
     "metadata": {},
     "output_type": "display_data"
    },
    {
     "data": {
      "text/plain": [
       "PyObject Text(24.00000000000002, 0.5, 'Magnitude of eigenvalues')"
      ]
     },
     "execution_count": 30,
     "metadata": {},
     "output_type": "execute_result"
    }
   ],
   "source": [
    "# TASK: Compute the magnitude of the eigenvalues of A for 0 ≤ h ≤ 1.  (1 pt)\n",
    "#       Store the result in `eigs_implicit::Matrix{Float64}` of size (100,2)\n",
    "eigs_implicit = zeros(100,2)\n",
    "\n",
    "# SOLUTION\n",
    "hs = range(0,1,length=100)\n",
    "eigs_implicit = map(hs) do h\n",
    "    A2 = implicit_midpoint_jacobian2(x2,x1,h)\n",
    "    A1 = implicit_midpoint_jacobian1(x2,x1,h)\n",
    "    Amid = -A2\\A1\n",
    "    abs.(eigvals(Amid))\n",
    "end\n",
    "\n",
    "# TASK: Plot the eigenvalues vs time step (1 pt)\n",
    "eigs_implicit = hcat(eigs_implicit...)'\n",
    "plot(hs, eigs_implicit)\n",
    "xlabel(\"time step (sec)\")\n",
    "ylabel(\"Magnitude of eigenvalues\")"
   ]
  },
  {
   "cell_type": "markdown",
   "metadata": {},
   "source": [
    "Obviously something special is going on here. Implicit midpoint is a \"symplectic\" integrator. That means it conserves energy (up to numerical roundoff/truncation error). Implicit midpoint is also the simplest \"collocation\" method. More about those later..."
   ]
  }
 ],
 "metadata": {
  "kernelspec": {
   "display_name": "Julia 1.5.3",
   "language": "julia",
   "name": "julia-1.5"
  },
  "language_info": {
   "file_extension": ".jl",
   "mimetype": "application/julia",
   "name": "julia",
   "version": "1.5.3"
  }
 },
 "nbformat": 4,
 "nbformat_minor": 4
}
